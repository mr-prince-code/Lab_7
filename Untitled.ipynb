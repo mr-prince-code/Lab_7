{
 "cells": [
  {
   "cell_type": "code",
   "execution_count": 1,
   "id": "e4443c23-bc94-48bc-aae0-e934a4b6d401",
   "metadata": {},
   "outputs": [],
   "source": [
    "import numpy as np\n",
    "import pandas as pd\n",
    "import matplotlib.pyplot as plt\n",
    "from sklearn.base import BaseEstimator, ClassifierMixin, clone\n",
    "from sklearn.preprocessing import LabelEncoder, StandardScaler\n",
    "from sklearn.pipeline import Pipeline, _name_estimators\n",
    "from sklearn import datasets\n",
    "from sklearn.model_selection import train_test_split, cross_val_score, GridSearchCV\n",
    "from sklearn.linear_model import LogisticRegression\n",
    "from sklearn.tree import DecisionTreeClassifier\n",
    "from sklearn.neighbors import KNeighborsClassifier\n",
    "from sklearn.ensemble import BaggingClassifier, AdaBoostClassifier, RandomForestClassifier, VotingClassifier\n",
    "from sklearn.metrics import accuracy_score\n",
    "import warnings\n",
    "warnings.filterwarnings('ignore')\n",
    "\n",
    "#I imported every needed import to minimize errors"
   ]
  },
  {
   "cell_type": "code",
   "execution_count": 2,
   "id": "7ed648be-d597-42ed-bf00-312a6028cdaa",
   "metadata": {},
   "outputs": [],
   "source": [
    "\n",
    "class MajorityVoteClassifier(BaseEstimator, ClassifierMixin):\n",
    "    \"\"\"A majority vote ensemble classifier\"\"\"\n",
    "\n",
    "    def __init__(self, classifiers, vote='classlabel', weights=None):\n",
    "        self.classifiers = classifiers\n",
    "        self.named_classifiers = {key: value for key, value in _name_estimators(classifiers)}\n",
    "        self.vote = vote\n",
    "        self.weights = weights\n",
    "\n",
    "    def fit(self, X, y):\n",
    "        \"\"\"Fit classifiers\"\"\"\n",
    "        self.lablenc_ = LabelEncoder()\n",
    "        self.lablenc_.fit(y)\n",
    "        self.classes_ = self.lablenc_.classes_\n",
    "        self.classifiers_ = []\n",
    "        for clf in self.classifiers:\n",
    "            fitted_clf = clone(clf).fit(X, self.lablenc_.transform(y))\n",
    "            self.classifiers_.append(fitted_clf)\n",
    "        return self\n",
    "\n",
    "    def predict(self, X):\n",
    "        \"\"\"Predict class labels\"\"\"\n",
    "        if self.vote == 'probability':\n",
    "            maj_vote = np.argmax(self.predict_proba(X), axis=1)\n",
    "        else:\n",
    "            predictions = np.asarray([clf.predict(X) for clf in self.classifiers_]).T\n",
    "            maj_vote = np.apply_along_axis(\n",
    "                lambda x: np.argmax(np.bincount(x, weights=self.weights)),\n",
    "                axis=1, arr=predictions)\n",
    "        maj_vote = self.lablenc_.inverse_transform(maj_vote)\n",
    "        return maj_vote\n",
    "\n",
    "    def predict_proba(self, X):\n",
    "        \"\"\"Predict class probabilities\"\"\"\n",
    "        probas = np.asarray([clf.predict_proba(X) for clf in self.classifiers_])\n",
    "        avg_proba = np.average(probas, axis=0, weights=self.weights)\n",
    "        return avg_proba\n",
    "\n",
    "    def get_params(self, deep=True):\n",
    "        \"\"\"Get classifier parameter names for GridSearch\"\"\"\n",
    "        if not deep:\n",
    "            return super(MajorityVoteClassifier, self).get_params(deep=False)\n",
    "        else:\n",
    "            out = self.named_classifiers.copy()\n",
    "            for name, step in self.named_classifiers.items():\n",
    "                for key, value in step.get_params(deep=True).items():\n",
    "                    out['%s__%s' % (name, key)] = value\n",
    "            return out\n"
   ]
  },
  {
   "cell_type": "code",
   "execution_count": 3,
   "id": "75d25176-ca0e-4a9f-9072-5ed7a1dca747",
   "metadata": {},
   "outputs": [],
   "source": [
    "\n",
    "# Prepare Iris dataset\n",
    "iris = datasets.load_iris()\n",
    "X, y = iris.data[50:, [1, 2]], iris.target[50:]\n",
    "le = LabelEncoder()\n",
    "y = le.fit_transform(y)\n",
    "\n",
    "X_train, X_test, y_train, y_test = train_test_split(\n",
    "    X, y, test_size=0.3, random_state=1, stratify=y)"
   ]
  },
  {
   "cell_type": "code",
   "execution_count": 4,
   "id": "cb99b5ac-a57e-43ea-8f2f-85e746de8b2c",
   "metadata": {},
   "outputs": [
    {
     "name": "stdout",
     "output_type": "stream",
     "text": [
      "\n",
      "10-fold cross validation:\n",
      "\n",
      "ROC AUC: 0.94 (+/- 0.07) [Logistic regression]\n",
      "ROC AUC: 0.90 (+/- 0.12) [Decision tree]\n",
      "ROC AUC: 0.86 (+/- 0.12) [KNN]\n"
     ]
    }
   ],
   "source": [
    "\n",
    "# Creating individual classifiers\n",
    "clf1 = LogisticRegression(penalty='l2', C=0.001, random_state=1, max_iter=1000, solver='lbfgs')\n",
    "clf2 = DecisionTreeClassifier(max_depth=1, criterion='entropy', random_state=0)\n",
    "clf3 = KNeighborsClassifier(n_neighbors=1, p=2, metric='minkowski')\n",
    "\n",
    "# Creating pipelines \n",
    "pipe1 = Pipeline([['sc', StandardScaler()], ['clf', clf1]])\n",
    "pipe3 = Pipeline([['sc', StandardScaler()], ['clf', clf3]])\n",
    "\n",
    "clf_labels = ['Logistic regression', 'Decision tree', 'KNN']\n",
    "print('\\n10-fold cross validation:\\n')\n",
    "\n",
    "for clf, label in zip([pipe1, clf2, pipe3], clf_labels):\n",
    "    scores = cross_val_score(estimator=clf, X=X_train, y=y_train, cv=10, scoring='roc_auc')\n",
    "    print(\"ROC AUC: %0.2f (+/- %0.2f) [%s]\" % (scores.mean(), scores.std(), label))\n"
   ]
  },
  {
   "cell_type": "code",
   "execution_count": 5,
   "id": "a9868154-f825-469f-ab8d-0f56bac6910c",
   "metadata": {},
   "outputs": [
    {
     "name": "stdout",
     "output_type": "stream",
     "text": [
      "\n",
      "With Majority Voting:\n",
      "\n",
      "ROC AUC: 0.94 (+/- 0.07) [Logistic regression]\n",
      "ROC AUC: 0.90 (+/- 0.12) [Decision tree]\n",
      "ROC AUC: 0.86 (+/- 0.12) [KNN]\n",
      "ROC AUC: nan (+/- nan) [Majority voting]\n"
     ]
    }
   ],
   "source": [
    "\n",
    "#step 1.5\n",
    "mv_clf = MajorityVoteClassifier(classifiers=[pipe1, clf2, pipe3])\n",
    "clf_labels += ['Majority voting']\n",
    "all_clf = [pipe1, clf2, pipe3, mv_clf]\n",
    "\n",
    "print('\\nWith Majority Voting:\\n')\n",
    "for clf, label in zip(all_clf, clf_labels):\n",
    "    scores = cross_val_score(estimator=clf, X=X_train, y=y_train, cv=10, scoring='roc_auc')\n",
    "    print(\"ROC AUC: %0.2f (+/- %0.2f) [%s]\" % (scores.mean(), scores.std(), label))\n"
   ]
  },
  {
   "cell_type": "code",
   "execution_count": 6,
   "id": "4eebe840-0c99-4edd-8156-2eb6a52fe63d",
   "metadata": {},
   "outputs": [],
   "source": [
    "\n",
    "# Load Wine dataset\n",
    "df_wine = pd.read_csv('https://archive.ics.uci.edu/ml/machine-learning-databases/wine/wine.data', \n",
    "                      header=None)\n",
    "df_wine.columns = ['Class label', 'Alcohol', 'Malic acid', 'Ash', 'Alcalinity of ash', \n",
    "                   'Magnesium', 'Total phenols', 'Flavanoids', 'Nonflavanoid phenols', \n",
    "                   'Proanthocyanins', 'Color intensity', 'Hue', \n",
    "                   'OD280/OD315 of diluted wines', 'Proline']\n",
    "\n",
    "# Drop class 1 and only use classes 2 and 3\n",
    "df_wine = df_wine[df_wine['Class label'] != 1]\n",
    "y_wine = df_wine['Class label'].values\n",
    "X_wine = df_wine[['Alcohol', 'OD280/OD315 of diluted wines']].values\n",
    "\n",
    "le_wine = LabelEncoder()\n",
    "y_wine = le_wine.fit_transform(y_wine)\n",
    "X_train_wine, X_test_wine, y_train_wine, y_test_wine = train_test_split(\n",
    "    X_wine, y_wine, test_size=0.2, random_state=1, stratify=y_wine)\n"
   ]
  },
  {
   "cell_type": "code",
   "execution_count": 7,
   "id": "d7db2b57-16ef-4241-8a9d-afcc046a4d72",
   "metadata": {},
   "outputs": [
    {
     "name": "stdout",
     "output_type": "stream",
     "text": [
      "\n",
      "Decision tree train/test accuracies 1.000/0.833\n"
     ]
    }
   ],
   "source": [
    "\n",
    "# Create decision tree classifier\n",
    "tree = DecisionTreeClassifier(criterion='entropy', random_state=1, max_depth=None)\n",
    "\n",
    "# Create bagging classifier\n",
    "bag = BaggingClassifier(estimator=tree, n_estimators=500, \n",
    "                        max_samples=1.0, max_features=1.0, \n",
    "                        bootstrap=True, bootstrap_features=False, \n",
    "                        n_jobs=1, random_state=1)\n",
    "\n",
    "# Train and evaluate individual decision tree\n",
    "tree = tree.fit(X_train_wine, y_train_wine)\n",
    "y_train_pred = tree.predict(X_train_wine)\n",
    "y_test_pred = tree.predict(X_test_wine)\n",
    "tree_train = accuracy_score(y_train_wine, y_train_pred)\n",
    "tree_test = accuracy_score(y_test_wine, y_test_pred)\n",
    "print('\\nDecision tree train/test accuracies %.3f/%.3f' % (tree_train, tree_test))\n"
   ]
  },
  {
   "cell_type": "code",
   "execution_count": 8,
   "id": "5a9ffbf1-2ed4-4ead-ae40-54fdc3b07017",
   "metadata": {},
   "outputs": [
    {
     "name": "stdout",
     "output_type": "stream",
     "text": [
      "Bagging train/test accuracies 1.000/0.917\n",
      "\n",
      "Decision boundary plot saved as bagging_decision_boundaries.png\n"
     ]
    },
    {
     "data": {
      "image/png": "[encoded data removed]",
      "text/plain": [
       "<Figure size 1000x400 with 2 Axes>"
      ]
     },
     "metadata": {},
     "output_type": "display_data"
    }
   ],
   "source": [
    "\n",
    "# Train and evaluate bagging\n",
    "bag = bag.fit(X_train_wine, y_train_wine)\n",
    "y_train_pred = bag.predict(X_train_wine)\n",
    "y_test_pred = bag.predict(X_test_wine)\n",
    "bag_train = accuracy_score(y_train_wine, y_train_pred)\n",
    "bag_test = accuracy_score(y_test_wine, y_test_pred)\n",
    "print('Bagging train/test accuracies %.3f/%.3f' % (bag_train, bag_test))\n",
    "\n",
    "# Visualize decision boundaries\n",
    "x_min = X_train_wine[:, 0].min() - 1\n",
    "x_max = X_train_wine[:, 0].max() + 1\n",
    "y_min = X_train_wine[:, 1].min() - 1\n",
    "y_max = X_train_wine[:, 1].max() + 1\n",
    "xx, yy = np.meshgrid(np.arange(x_min, x_max, 0.1),\n",
    "                     np.arange(y_min, y_max, 0.1))\n",
    "\n",
    "# Retrain for visualization\n",
    "tree = DecisionTreeClassifier(criterion='entropy', random_state=1, max_depth=None)\n",
    "tree.fit(X_train_wine, y_train_wine)\n",
    "\n",
    "f, axarr = plt.subplots(nrows=1, ncols=2, sharex='col', sharey='row', figsize=(10, 4))\n",
    "\n",
    "for idx, clf, tt in zip([0, 1], [tree, bag], ['Decision Tree', 'Bagging']):\n",
    "    Z = clf.predict(np.c_[xx.ravel(), yy.ravel()])\n",
    "    Z = Z.reshape(xx.shape)\n",
    "    axarr[idx].contourf(xx, yy, Z, alpha=0.3)\n",
    "    axarr[idx].scatter(X_train_wine[y_train_wine==0, 0], \n",
    "                      X_train_wine[y_train_wine==0, 1], \n",
    "                      c='blue', marker='^', label='Class 0')\n",
    "    axarr[idx].scatter(X_train_wine[y_train_wine==1, 0], \n",
    "                      X_train_wine[y_train_wine==1, 1], \n",
    "                      c='green', marker='o', label='Class 1')\n",
    "    axarr[idx].set_title(tt)\n",
    "    axarr[idx].legend()\n",
    "\n",
    "axarr[0].set_ylabel('Alcohol', fontsize=12)\n",
    "plt.text(0.5, -0.1, s='OD280/OD315 of diluted wines', \n",
    "         ha='center', va='center', fontsize=12, transform=f.transFigure)\n",
    "plt.tight_layout()\n",
    "plt.savefig('bagging_decision_boundaries.png', dpi=300, bbox_inches='tight')\n",
    "print('\\nDecision boundary plot saved as bagging_decision_boundaries.png')\n"
   ]
  },
  {
   "cell_type": "code",
   "execution_count": 9,
   "id": "f2584c67-4201-4b39-9fc6-060deebfa138",
   "metadata": {},
   "outputs": [
    {
     "name": "stdout",
     "output_type": "stream",
     "text": [
      "\n",
      "Decision tree stump train/test accuracies 0.916/0.875\n",
      "AdaBoost train/test accuracies 0.968/0.917\n"
     ]
    }
   ],
   "source": [
    "\n",
    "\n",
    "# Create decision tree stump\n",
    "tree_stump = DecisionTreeClassifier(criterion='entropy', random_state=1, max_depth=1)\n",
    "\n",
    "# Create AdaBoost classifier\n",
    "ada = AdaBoostClassifier(estimator=tree_stump, n_estimators=500, \n",
    "                         learning_rate=0.1, random_state=1)\n",
    "\n",
    "# Train individual decision tree stump\n",
    "tree_stump = tree_stump.fit(X_train_wine, y_train_wine)\n",
    "y_train_pred = tree_stump.predict(X_train_wine)\n",
    "y_test_pred = tree_stump.predict(X_test_wine)\n",
    "tree_train = accuracy_score(y_train_wine, y_train_pred)\n",
    "tree_test = accuracy_score(y_test_wine, y_test_pred)\n",
    "print('\\nDecision tree stump train/test accuracies %.3f/%.3f' % (tree_train, tree_test))\n",
    "\n",
    "# Train AdaBoost classifier\n",
    "ada = ada.fit(X_train_wine, y_train_wine)\n",
    "y_train_pred = ada.predict(X_train_wine)\n",
    "y_test_pred = ada.predict(X_test_wine)\n",
    "ada_train = accuracy_score(y_train_wine, y_train_pred) \n",
    "ada_test = accuracy_score(y_test_wine, y_test_pred)\n",
    "print('AdaBoost train/test accuracies %.3f/%.3f' % (ada_train, ada_test))\n"
   ]
  },
  {
   "cell_type": "code",
   "execution_count": 10,
   "id": "1c05905f-cfb7-4f83-8c02-df9b6e8f021b",
   "metadata": {},
   "outputs": [
    {
     "name": "stdout",
     "output_type": "stream",
     "text": [
      "\n",
      "Error convergence plot saved as adaboost_error_convergence.png\n"
     ]
    },
    {
     "data": {
      "image/png": "[encoded data removed]",
      "text/plain": [
       "<Figure size 1000x600 with 1 Axes>"
      ]
     },
     "metadata": {},
     "output_type": "display_data"
    }
   ],
   "source": [
    "\n",
    "# Plot error convergence for AdaBoost\n",
    "ada = AdaBoostClassifier(estimator=DecisionTreeClassifier(max_depth=1, random_state=1),\n",
    "                         n_estimators=500, learning_rate=0.1, random_state=1)\n",
    "\n",
    "ada.fit(X_train_wine, y_train_wine)\n",
    "ada_train_err = []\n",
    "ada_test_err = []\n",
    "\n",
    "for y_train_pred, y_test_pred in zip(ada.staged_predict(X_train_wine), \n",
    "                                       ada.staged_predict(X_test_wine)):\n",
    "    ada_train_err.append(1 - accuracy_score(y_train_wine, y_train_pred))\n",
    "    ada_test_err.append(1 - accuracy_score(y_test_wine, y_test_pred))\n",
    "\n",
    "plt.figure(figsize=(10, 6))\n",
    "plt.plot(range(1, len(ada_train_err) + 1), ada_train_err, \n",
    "         label='Training error', color='blue', linestyle='-')\n",
    "plt.plot(range(1, len(ada_test_err) + 1), ada_test_err, \n",
    "         label='Test error', color='red', linestyle='--')\n",
    "plt.xlabel('Number of boosting iterations')\n",
    "plt.ylabel('Error')\n",
    "plt.legend(loc='upper right')\n",
    "plt.ylim(0, 0.5)\n",
    "plt.title('AdaBoost Error Convergence')\n",
    "plt.grid(True, alpha=0.3)\n",
    "plt.tight_layout()\n",
    "plt.savefig('adaboost_error_convergence.png', dpi=300, bbox_inches='tight')\n",
    "print('\\nError convergence plot saved as adaboost_error_convergence.png')\n"
   ]
  },
  {
   "cell_type": "code",
   "execution_count": 11,
   "id": "97debf37-5625-40de-a0c6-573f9bf9d863",
   "metadata": {},
   "outputs": [
    {
     "name": "stdout",
     "output_type": "stream",
     "text": [
      "\n",
      "Evaluating all classifiers with 10-fold cross-validation...\n",
      "\n",
      "         Classifier  Mean Accuracy  Std Accuracy\n",
      "                KNN       0.951818      0.048285\n",
      "Logistic Regression       0.941818      0.047621\n",
      "  Voting Classifier       0.940909      0.065839\n",
      "            Bagging       0.940909      0.065839\n",
      "      Random Forest       0.931818      0.063278\n",
      "      Decision Tree       0.922727      0.059231\n",
      "           AdaBoost       0.922727      0.071841\n"
     ]
    }
   ],
   "source": [
    "\n",
    "\n",
    "\n",
    "# Prepare full Iris dataset for comprehensive comparison\n",
    "iris = datasets.load_iris()\n",
    "X_iris, y_iris = iris.data, iris.target\n",
    "X_train_iris, X_test_iris, y_train_iris, y_test_iris = train_test_split(\n",
    "    X_iris, y_iris, test_size=0.3, random_state=1, stratify=y_iris)\n",
    "\n",
    "# Create individual classifiers\n",
    "clf_lr = LogisticRegression(random_state=1, max_iter=1000)\n",
    "clf_knn = KNeighborsClassifier()\n",
    "clf_dt = DecisionTreeClassifier(random_state=1)\n",
    "clf_rf = RandomForestClassifier(random_state=1)\n",
    "\n",
    "# Create ensemble methods\n",
    "voting_clf = VotingClassifier(estimators=[\n",
    "    ('lr', clf_lr), ('knn', clf_knn), ('dt', clf_dt), ('rf', clf_rf)], \n",
    "    voting='hard')\n",
    "\n",
    "bagging_clf = BaggingClassifier(estimator=clf_dt, n_estimators=100, random_state=1)\n",
    "adaboost_clf = AdaBoostClassifier(estimator=clf_dt, n_estimators=100, random_state=1)\n",
    "\n",
    "classifiers = [clf_lr, clf_knn, clf_dt, clf_rf, voting_clf, bagging_clf, adaboost_clf]\n",
    "classifier_names = ['Logistic Regression', 'KNN', 'Decision Tree', 'Random Forest', \n",
    "                    'Voting Classifier', 'Bagging', 'AdaBoost']\n",
    "\n",
    "# Evaluate all classifiers\n",
    "print('\\nEvaluating all classifiers with 10-fold cross-validation...\\n')\n",
    "results = []\n",
    "for clf, name in zip(classifiers, classifier_names):\n",
    "    scores = cross_val_score(clf, X_train_iris, y_train_iris, cv=10, scoring='accuracy')\n",
    "    results.append({\n",
    "        'Classifier': name,\n",
    "        'Mean Accuracy': scores.mean(),\n",
    "        'Std Accuracy': scores.std()\n",
    "    })\n",
    "\n",
    "results_df = pd.DataFrame(results)\n",
    "results_df = results_df.sort_values('Mean Accuracy', ascending=False)\n",
    "print(results_df.to_string(index=False))\n"
   ]
  },
  {
   "cell_type": "code",
   "execution_count": 12,
   "id": "b46f415a-38d3-4460-96b3-d935b5e5b860",
   "metadata": {},
   "outputs": [
    {
     "name": "stdout",
     "output_type": "stream",
     "text": [
      "\n",
      "Tuning AdaBoost...\n",
      "AdaBoost Best parameters: {'estimator__max_depth': 1, 'learning_rate': 0.1, 'n_estimators': 50}\n",
      "AdaBoost Best CV score: 0.971\n",
      "AdaBoost Test score: 0.978\n",
      "\n",
      "Tuning Bagging...\n",
      "Bagging Best parameters: {'max_features': 0.8, 'max_samples': 0.5, 'n_estimators': 200}\n",
      "Bagging Best CV score: 0.952\n",
      "Bagging Test score: 0.978\n",
      "\n",
      "================================================================================\n",
      "LAB COMPLETE - Check saved plots and results above\n",
      "================================================================================\n"
     ]
    }
   ],
   "source": [
    "\n",
    "\n",
    "# Tune AdaBoost parameters\n",
    "print('\\nTuning AdaBoost...')\n",
    "param_grid_ada = {\n",
    "    'n_estimators': [50, 100, 200],\n",
    "    'learning_rate': [0.1, 0.5, 1.0],\n",
    "    'estimator__max_depth': [1, 2, 3]\n",
    "}\n",
    "\n",
    "ada = AdaBoostClassifier(estimator=DecisionTreeClassifier(random_state=1), random_state=1)\n",
    "gs_ada = GridSearchCV(ada, param_grid_ada, cv=5, scoring='accuracy', n_jobs=-1)\n",
    "gs_ada.fit(X_train_iris, y_train_iris)\n",
    "\n",
    "print(\"AdaBoost Best parameters:\", gs_ada.best_params_)\n",
    "print(\"AdaBoost Best CV score: %.3f\" % gs_ada.best_score_)\n",
    "print(\"AdaBoost Test score: %.3f\" % gs_ada.score(X_test_iris, y_test_iris))\n",
    "\n",
    "# Tune Bagging parameters\n",
    "print('\\nTuning Bagging...')\n",
    "param_grid_bag = {\n",
    "    'n_estimators': [50, 100, 200],\n",
    "    'max_samples': [0.5, 0.8, 1.0],\n",
    "    'max_features': [0.5, 0.8, 1.0]\n",
    "}\n",
    "\n",
    "bag = BaggingClassifier(estimator=DecisionTreeClassifier(random_state=1), random_state=1)\n",
    "gs_bag = GridSearchCV(bag, param_grid_bag, cv=5, scoring='accuracy', n_jobs=-1)\n",
    "gs_bag.fit(X_train_iris, y_train_iris)\n",
    "\n",
    "print(\"Bagging Best parameters:\", gs_bag.best_params_)\n",
    "print(\"Bagging Best CV score: %.3f\" % gs_bag.best_score_)\n",
    "print(\"Bagging Test score: %.3f\" % gs_bag.score(X_test_iris, y_test_iris))\n",
    "\n",
    "print(\"\\n\" + \"=\"*80)\n",
    "print(\"LAB COMPLETE - Check saved plots and results above\")\n",
    "print(\"=\"*80)"
   ]
  },
  {
   "cell_type": "code",
   "execution_count": null,
   "id": "adc8fc38-2597-417a-8afe-f6adad35b228",
   "metadata": {},
   "outputs": [],
   "source": []
  }
 ],
 "metadata": {
  "kernelspec": {
   "display_name": "Python 3 (ipykernel)",
   "language": "python",
   "name": "python3"
  },
  "language_info": {
   "codemirror_mode": {
    "name": "ipython",
    "version": 3
   },
   "file_extension": ".py",
   "mimetype": "text/x-python",
   "name": "python",
   "nbconvert_exporter": "python",
   "pygments_lexer": "ipython3",
   "version": "3.13.5"
  }
 },
 "nbformat": 4,
 "nbformat_minor": 5
}
